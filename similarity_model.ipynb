{
  "cells": [
    {
      "cell_type": "code",
      "execution_count": 1,
      "metadata": {
        "id": "9dn5G75VBw4x"
      },
      "outputs": [],
      "source": [
        "import torch\n",
        "import pandas as pd\n",
        "from sentence_transformers import SentenceTransformer, util, models\n",
        "from sklearn.feature_extraction.text import TfidfVectorizer\n",
        "from rank_bm25 import BM25Okapi"
      ]
    },
    {
      "cell_type": "code",
      "execution_count": null,
      "metadata": {
        "colab": {
          "base_uri": "https://localhost:8080/",
          "height": 912
        },
        "id": "3wRVJID-COfS",
        "outputId": "a332a4f5-4281-44ca-e2fe-5c0a73e67e1d"
      },
      "outputs": [],
      "source": [
        "movies = pd.read_csv('archive/movies_metadata.csv')\n",
        "movies.head().transpose()"
      ]
    },
    {
      "cell_type": "code",
      "execution_count": null,
      "metadata": {
        "colab": {
          "base_uri": "https://localhost:8080/"
        },
        "id": "JrOTKiLeCk4d",
        "outputId": "9d670d1f-3a5c-4a6f-84ec-358626fec46d"
      },
      "outputs": [],
      "source": [
        "# Check the languages of movies\n",
        "movies.original_language.unique()"
      ]
    },
    {
      "cell_type": "code",
      "execution_count": 5,
      "metadata": {
        "id": "pJavxchCCqLq"
      },
      "outputs": [],
      "source": [
        "movies_en = movies[movies.original_language == 'en'].copy()"
      ]
    },
    {
      "cell_type": "code",
      "execution_count": null,
      "metadata": {
        "id": "j-4pgH6ADdOi"
      },
      "outputs": [],
      "source": [
        "# Remove rows with missing description\n",
        "movies_processed = movies_en.copy()\n",
        "movies_processed.dropna(subset=['genres','id','original_language','overview',\n",
        "                                'production_companies','production_countries',\n",
        "                                'tagline','vote_average','vote_count','title'],\n",
        "                        inplace = True)"
      ]
    },
    {
      "cell_type": "code",
      "execution_count": 9,
      "metadata": {},
      "outputs": [],
      "source": [
        "# Due to the resource and time limit, sample 1000 movies\n",
        "movies_processed = movies_processed.sample(n=1000, random_state=9542)\n",
        "\n",
        "# Save it to a csv file\n",
        "movies_processed.to_csv(\"processed.csv\", index=False)"
      ]
    },
    {
      "cell_type": "code",
      "execution_count": null,
      "metadata": {
        "colab": {
          "base_uri": "https://localhost:8080/",
          "height": 337
        },
        "id": "4BjyadRYEyz0",
        "outputId": "382a8068-ddcb-482f-e243-b58c467ab821"
      },
      "outputs": [],
      "source": [
        "# Keep necessary data for the similarity-based models\n",
        "cols_keep = ['id', 'title', 'overview']\n",
        "movies_reduced = movies_processed[cols_keep]\n",
        "movies_reduced.head()"
      ]
    },
    {
      "cell_type": "code",
      "execution_count": null,
      "metadata": {
        "colab": {
          "base_uri": "https://localhost:8080/",
          "height": 258
        },
        "id": "U7E6QBohGcTc",
        "outputId": "52112b21-f55a-4e50-d0ca-e6049d0d79db"
      },
      "outputs": [],
      "source": [
        "# Combine the information of the reduced movies dataset into one column\n",
        "movies_reduced['OverallInfo'] = movies_reduced[['title', 'overview']].agg('. '.join, axis = 1)\n",
        "movies_reduced.head()"
      ]
    },
    {
      "cell_type": "code",
      "execution_count": 12,
      "metadata": {},
      "outputs": [],
      "source": [
        "# Function to get the pairs of cosine similarity and book info in descending order\n",
        "def sort_by_cosine(query_embedding,data):\n",
        "    '''\n",
        "    takes the embedding of a \"query\" description and the movies dataset, returns a list of pairs\n",
        "    of the form (similarity,id), sorted in decreasing order according to cosine similarity\n",
        "    between each document and the query.\n",
        "    '''\n",
        "    similarities = []\n",
        "    for i in range(len(data.OverallInfo)):\n",
        "        doc_embedding = data.OverallInfo.iloc[i]\n",
        "        similarity = util.cos_sim(doc_embedding, query_embedding)\n",
        "        similarities.append((similarity, data.id.iloc[i]))\n",
        "    similarities.sort(reverse=True)\n",
        "    return similarities"
      ]
    },
    {
      "cell_type": "code",
      "execution_count": 13,
      "metadata": {},
      "outputs": [],
      "source": [
        "def tfidf_cosine(query,data):\n",
        "    '''\n",
        "    returns the similarities between a movie descriptions with all descriptions as (similarity,id) pairs,\n",
        "    using the cosine similarity and TF-IDF sentence representation.\n",
        "    '''\n",
        "    tfidf = TfidfVectorizer(stop_words=\"english\")\n",
        "    data_cp = data.copy()\n",
        "    scores = tfidf.fit_transform(data_cp.OverallInfo).toarray()\n",
        "    query_embedding = tfidf.transform([query]).toarray()[0]\n",
        "    data_cp.OverallInfo = [vec for vec in scores]\n",
        "    sim = sort_by_cosine(query_embedding, data_cp)\n",
        "    return sim"
      ]
    },
    {
      "cell_type": "code",
      "execution_count": 14,
      "metadata": {},
      "outputs": [],
      "source": [
        "def glove_cosine(query,data):\n",
        "    '''\n",
        "    returns the similarities between a movie descriptions with all descriptions as (similarity,id) pairs,\n",
        "    using the cosine similarity and glove-based sentence embedding.\n",
        "    '''\n",
        "    model = SentenceTransformer('sentence-transformers/average_word_embeddings_glove.840B.300d')\n",
        "    query_embedding = model.encode(query)\n",
        "    data_cp = data.copy()\n",
        "    data_cp.OverallInfo = [vec for vec in model.encode(data_cp.OverallInfo.tolist())]\n",
        "    sim = sort_by_cosine(query_embedding, data_cp)\n",
        "    return sim"
      ]
    },
    {
      "cell_type": "code",
      "execution_count": 15,
      "metadata": {},
      "outputs": [],
      "source": [
        "def minilm_cosine(query,data):\n",
        "    '''\n",
        "    returns the similarities between a movie descriptions with all descriptions as (similarity,id) pairs,\n",
        "    using the cosine similarity and MiniLM-based (derived from BERT) sentence embedding.\n",
        "    '''\n",
        "    # As the following model does not respond from repo, download it and load from local\n",
        "    #model = SentenceTransformer('all-MiniLM-L6-v2')\n",
        "    model = SentenceTransformer('/Users/l24cui/Library/CloudStorage/OneDrive-TheUniversityofWesternOntario/Western/W23/CS9542 Artificial Intelligence II/Project/book-recommendation/all-MiniLM-L6-v2')\n",
        "    query_embedding = model.encode(query)\n",
        "    data_cp = data.copy()\n",
        "    data_cp.OverallInfo = [vec for vec in model.encode(data_cp.OverallInfo.tolist())]\n",
        "    sim = sort_by_cosine(query_embedding, data_cp)\n",
        "    return sim"
      ]
    },
    {
      "cell_type": "code",
      "execution_count": 16,
      "metadata": {},
      "outputs": [],
      "source": [
        "# Setup dictionaries to store the similarity results\n",
        "sim_cos = {\"tfidf\": {}, \"glove\":{}, \"bert\":{}}\n",
        "sim_bm25 = {\"tfidf\": {}, \"glove\":{}, \"bert\":{}}"
      ]
    },
    {
      "cell_type": "code",
      "execution_count": null,
      "metadata": {},
      "outputs": [],
      "source": [
        "# Calculate Cosine similarities among the TF-IDF, GloVe and BERT representations\n",
        "# of all movie description pairs\n",
        "for i in range(len(movies_reduced.OverallInfo)):\n",
        "    mid = movies_reduced.id.iloc[i]\n",
        "    mdesc = movies_reduced.OverallInfo.iloc[i]\n",
        "    sim_cos[\"tfidf\"][mid] = tfidf_cosine(mdesc,movies_reduced)\n",
        "    sim_cos[\"glove\"][mid] = glove_cosine(mdesc,movies_reduced)\n",
        "    sim_cos[\"bert\"][mid] = minilm_cosine(mdesc,movies_reduced)\n",
        "# Load the similarities instead of compute again\n",
        "#sim_cos = torch.load('cosine.pt')"
      ]
    },
    {
      "cell_type": "code",
      "execution_count": 18,
      "metadata": {},
      "outputs": [],
      "source": [
        "# Save the cosine similarities\n",
        "torch.save(sim_cos, 'cosine.pt')"
      ]
    },
    {
      "cell_type": "code",
      "execution_count": 19,
      "metadata": {},
      "outputs": [],
      "source": [
        "# Function to get the pairs of BM25 similarity and book info in descending order\n",
        "def sort_by_bm25(query_embedding,data):\n",
        "    '''\n",
        "    takes the embedding of a \"query\" description and the movies dataset, returns a list of pairs\n",
        "    of the form (similarity,id), sorted in decreasing order according to BM25 similarity\n",
        "    between each document and the query.\n",
        "    '''\n",
        "    bm25 = BM25Okapi(data.OverallInfo.tolist())\n",
        "    similarity_scores = bm25.get_scores(query_embedding)\n",
        "    similarities = [(similarity_scores[i], data.id.iloc[i]) for i in range(len(data.OverallInfo))]\n",
        "    similarities.sort(reverse=True)\n",
        "    return similarities"
      ]
    },
    {
      "cell_type": "code",
      "execution_count": 20,
      "metadata": {},
      "outputs": [],
      "source": [
        "def tfidf_bm25(query,data):\n",
        "    '''\n",
        "    returns the similarities between a movie descriptions with all descriptions as (similarity,id) pairs,\n",
        "    using the BM25 similarity and TF-IDF sentence representation.\n",
        "    '''\n",
        "    tfidf = TfidfVectorizer(stop_words=\"english\")\n",
        "    data_cp = data.copy()\n",
        "    scores = tfidf.fit_transform(data_cp.OverallInfo).toarray()\n",
        "    query_embedding = tfidf.transform([query]).toarray()[0]\n",
        "    data_cp.OverallInfo = [vec for vec in scores]\n",
        "    sim = sort_by_bm25(query_embedding, data_cp)\n",
        "    return sim"
      ]
    },
    {
      "cell_type": "code",
      "execution_count": 21,
      "metadata": {},
      "outputs": [],
      "source": [
        "def glove_bm25(query,data):\n",
        "    '''\n",
        "    returns the similarities between a movie descriptions with all descriptions as (similarity,id) pairs,\n",
        "    using the BM25 similarity and glove-based sentence embedding.\n",
        "    '''\n",
        "    model = SentenceTransformer('sentence-transformers/average_word_embeddings_glove.840B.300d')\n",
        "    query_embedding = model.encode(query)\n",
        "    data_cp = data.copy()\n",
        "    data_cp.OverallInfo = [vec for vec in model.encode(data_cp.OverallInfo.tolist())]\n",
        "    sim = sort_by_bm25(query_embedding, data_cp)\n",
        "    return sim"
      ]
    },
    {
      "cell_type": "code",
      "execution_count": 22,
      "metadata": {},
      "outputs": [],
      "source": [
        "def minilm_bm25(query,data):\n",
        "    '''\n",
        "    returns the similarities between a movie descriptions with all descriptions as (similarity,id) pairs,\n",
        "    using the BM25 similarity and MiniLM-based (derived from BERT) sentence embedding.\n",
        "    '''\n",
        "    # As the following model does not respond from repo, download it and load from local\n",
        "    #model = SentenceTransformer('all-MiniLM-L6-v2')\n",
        "    model = SentenceTransformer('/Users/l24cui/Library/CloudStorage/OneDrive-TheUniversityofWesternOntario/Western/W23/CS9542 Artificial Intelligence II/Project/book-recommendation/all-MiniLM-L6-v2')\n",
        "    query_embedding = model.encode(query)\n",
        "    data_cp = data.copy()\n",
        "    data_cp.OverallInfo = [vec for vec in model.encode(data_cp.OverallInfo.tolist())]\n",
        "    sim = sort_by_bm25(query_embedding, data_cp)\n",
        "    return sim"
      ]
    },
    {
      "cell_type": "code",
      "execution_count": 23,
      "metadata": {},
      "outputs": [],
      "source": [
        "# Calculate Cosine similarities among the TF-IDF, GloVe and BERT representations\n",
        "# of all movie description pairs\n",
        "for i in range(len(movies_reduced.OverallInfo)):\n",
        "    mid = movies_reduced.id.iloc[i]\n",
        "    mdesc = movies_reduced.OverallInfo.iloc[i]\n",
        "    sim_bm25[\"tfidf\"][mid] = tfidf_bm25(mdesc,movies_reduced)\n",
        "    sim_bm25[\"glove\"][mid] = glove_bm25(mdesc,movies_reduced)\n",
        "    sim_bm25[\"bert\"][mid] = minilm_bm25(mdesc,movies_reduced)\n",
        "# Load the similarities instead of compute again\n",
        "#sim_bm25 = torch.load('bm25.pt')"
      ]
    },
    {
      "cell_type": "code",
      "execution_count": 24,
      "metadata": {},
      "outputs": [],
      "source": [
        "# Save the bm25 similarities\n",
        "torch.save(sim_bm25, 'bm25.pt')"
      ]
    }
  ],
  "metadata": {
    "colab": {
      "provenance": []
    },
    "kernelspec": {
      "display_name": "Python 3",
      "name": "python3"
    },
    "language_info": {
      "codemirror_mode": {
        "name": "ipython",
        "version": 3
      },
      "file_extension": ".py",
      "mimetype": "text/x-python",
      "name": "python",
      "nbconvert_exporter": "python",
      "pygments_lexer": "ipython3",
      "version": "3.10.11"
    }
  },
  "nbformat": 4,
  "nbformat_minor": 0
}
